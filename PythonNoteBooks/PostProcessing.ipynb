{
 "cells": [
  {
   "cell_type": "code",
   "execution_count": 2,
   "metadata": {
    "collapsed": true
   },
   "outputs": [],
   "source": [
    "import numpy as np\n",
    "import pandas as pd\n",
    "from collections import defaultdict"
   ]
  },
  {
   "cell_type": "code",
   "execution_count": 9,
   "metadata": {
    "collapsed": true
   },
   "outputs": [],
   "source": [
    "class PostPreprocessing:\n",
    "    \n",
    "\n",
    "    def read_files(self):\n",
    "        df_train = pd.read_csv(\"../InputFiles/train.csv\")\n",
    "        df_test = pd.read_csv(\"../InputFiles/test.csv\")\n",
    "        test_label = np.array(pd.read_csv('../OutputFiles/pickled_output.csv')[\"is_duplicate\"])\n",
    "        return df_train, df_test, test_label\n",
    "        \n",
    "    def post_process(self, df_train, df_test, test_label):\n",
    "\n",
    "        #Variable initializations\n",
    "        REPEAT = 2 \n",
    "        DUP_THRESHOLD = 0.5 \n",
    "        NOT_DUP_THRESHOLD = 0.1 \n",
    "        MAX_UPDATE = 0.2 \n",
    "        DUP_UPPER_BOUND = 0.98 \n",
    "        NOT_DUP_LOWER_BOUND = 0.01\n",
    "        \n",
    "        for i in range(REPEAT):\n",
    "            dup_neighbors = defaultdict(set)\n",
    "\n",
    "            for dup, q1, q2 in zip(df_train[\"is_duplicate\"], df_train[\"question1\"], df_train[\"question2\"]): \n",
    "                if dup:\n",
    "                    dup_neighbors[q1].add(q2)\n",
    "                    dup_neighbors[q2].add(q1)\n",
    "\n",
    "            for dup, q1, q2 in zip(test_label, df_test[\"question1\"], df_test[\"question2\"]): \n",
    "                if dup > DUP_THRESHOLD:\n",
    "                    dup_neighbors[q1].add(q2)\n",
    "                    dup_neighbors[q2].add(q1)\n",
    "\n",
    "            count = 0\n",
    "            for index, (q1, q2) in enumerate(zip(df_test[\"question1\"], df_test[\"question2\"])): \n",
    "                dup_neighbor_count = len(dup_neighbors[q1].intersection(dup_neighbors[q2]))\n",
    "                if dup_neighbor_count > 0 and test_label[index] < DUP_UPPER_BOUND:\n",
    "                    update = min(MAX_UPDATE, (DUP_UPPER_BOUND - test_label[index])/2)\n",
    "                    test_label[index] += update\n",
    "                    count += 1\n",
    "\n",
    "        \n",
    "        for i in range(REPEAT):\n",
    "            not_dup_neighbors = defaultdict(set)\n",
    "\n",
    "            for dup, q1, q2 in zip(df_train[\"is_duplicate\"], df_train[\"question1\"], df_train[\"question2\"]): \n",
    "                if not dup:\n",
    "                    not_dup_neighbors[q1].add(q2)\n",
    "                    not_dup_neighbors[q2].add(q1)\n",
    "\n",
    "            for dup, q1, q2 in zip(test_label, df_test[\"question1\"], df_test[\"question2\"]): \n",
    "                if dup < NOT_DUP_THRESHOLD:\n",
    "                    not_dup_neighbors[q1].add(q2)\n",
    "                    not_dup_neighbors[q2].add(q1)\n",
    "\n",
    "            count = 0\n",
    "            for index, (q1, q2) in enumerate(zip(df_test[\"question1\"], df_test[\"question2\"])): \n",
    "                dup_neighbor_count = len(not_dup_neighbors[q1].intersection(not_dup_neighbors[q2]))\n",
    "                if dup_neighbor_count > 0 and test_label[index] > NOT_DUP_LOWER_BOUND:\n",
    "                    update = min(MAX_UPDATE, (test_label[index] - NOT_DUP_LOWER_BOUND)/2)\n",
    "                    test_label[index] -= update\n",
    "                    count += 1\n",
    "        \n",
    "        submission = pd.DataFrame({'id':df_test[\"test_id\"], 'is_duplicate':test_label})\n",
    "        submission.to_csv('../OutputFiles/submission.csv', index=False)"
   ]
  },
  {
   "cell_type": "code",
   "execution_count": 10,
   "metadata": {},
   "outputs": [],
   "source": [
    "#Starting Point\n",
    "if __name__ == '__main__':\n",
    "    #Read csv files\n",
    "    obj = PostPreprocessing()\n",
    "    df_train, df_test, test_label = obj.read_files()\n",
    "    obj.post_process(df_train, df_test, test_label)"
   ]
  }
 ],
 "metadata": {
  "kernelspec": {
   "display_name": "Python 3",
   "language": "python",
   "name": "python3"
  },
  "language_info": {
   "codemirror_mode": {
    "name": "ipython",
    "version": 3
   },
   "file_extension": ".py",
   "mimetype": "text/x-python",
   "name": "python",
   "nbconvert_exporter": "python",
   "pygments_lexer": "ipython3",
   "version": "3.6.7"
  }
 },
 "nbformat": 4,
 "nbformat_minor": 2
}
