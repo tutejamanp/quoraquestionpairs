{
 "cells": [
  {
   "cell_type": "code",
   "execution_count": 1,
   "metadata": {
    "collapsed": true
   },
   "outputs": [],
   "source": [
    "import numpy as np\n",
    "import pandas as pd\n",
    "import timeit"
   ]
  },
  {
   "cell_type": "code",
   "execution_count": 22,
   "metadata": {
    "collapsed": true
   },
   "outputs": [],
   "source": [
    "class QuestionFrequency:\n",
    "    \n",
    "    train_org = pd.DataFrame()\n",
    "    test_org = pd.DataFrame()\n",
    "    \n",
    "    def read_files(self):\n",
    "        self.train_orig = pd.read_csv('../LematizedFiles/trainlem.csv', engine='python')\n",
    "        self.test_orig = pd.read_csv('../LematizedFiles/testlem.csv',engine='python')\n",
    "        return self.train_orig, self.test_orig\n",
    "    \n",
    "    def add_freq_features(self):\n",
    "        \n",
    "        train_org = self.train_org\n",
    "        test_org = self.test_org\n",
    "        \n",
    "        df1 = self.train_orig[['question1']].copy()\n",
    "        df2 = self.train_orig[['question2']].copy()\n",
    "        df1_test = self.test_orig[['question1']].copy()\n",
    "        df2_test = self.test_orig[['question2']].copy()\n",
    "\n",
    "        df2.rename(columns = {'question2':'question1'},inplace=True)\n",
    "        df2_test.rename(columns = {'question2':'question1'},inplace=True)\n",
    "\n",
    "        train_questions = df1.append(df2)\n",
    "        train_questions = train_questions.append(df1_test)\n",
    "        train_questions = train_questions.append(df2_test)\n",
    "        #train_questions.drop_duplicates(subset = ['qid1'],inplace=True)\n",
    "        train_questions.drop_duplicates(subset = ['question1'],inplace=True)\n",
    "\n",
    "        train_questions.reset_index(inplace=True,drop=True)\n",
    "        questions_dict = pd.Series(train_questions.index.values,index=train_questions.question1.values).to_dict()\n",
    "        train_cp = self.train_orig.copy()\n",
    "        test_cp = self.test_orig.copy()\n",
    "        train_cp.drop(['qid1','qid2'],axis=1,inplace=True)\n",
    "\n",
    "        test_cp['is_duplicate'] = -1\n",
    "        test_cp.rename(columns={'test_id':'id'},inplace=True)\n",
    "        comb = pd.concat([train_cp,test_cp])\n",
    "\n",
    "        comb['q1_hash'] = comb['question1'].map(questions_dict)\n",
    "        comb['q2_hash'] = comb['question2'].map(questions_dict)\n",
    "\n",
    "        q1_vc = comb.q1_hash.value_counts().to_dict()\n",
    "        q2_vc = comb.q2_hash.value_counts().to_dict()\n",
    "\n",
    "        def try_apply_dict(x,dict_to_apply):\n",
    "            try:\n",
    "                return dict_to_apply[x]\n",
    "            except KeyError:\n",
    "                return 0\n",
    "        \n",
    "        #map to frequency space\n",
    "        comb['q1_freq'] = comb['q1_hash'].map(lambda x: try_apply_dict(x,q1_vc) + try_apply_dict(x,q2_vc))\n",
    "        comb['q2_freq'] = comb['q2_hash'].map(lambda x: try_apply_dict(x,q1_vc) + try_apply_dict(x,q2_vc))\n",
    "        \n",
    "        df = pd.DataFrame()\n",
    "        df['q1_freq'] = comb['q1_freq']\n",
    "        df['q2_freq'] = comb['q2_freq']\n",
    "        \n",
    "        df.tail(1000).to_csv('../LematizedFiles/test_ques_freq.csv')\n",
    "        df.iloc[0:403287].to_csv('../LematizedFiles/train_ques_freq.csv')\n",
    "        \n",
    "    def copy_to_orig_lem(self):\n",
    "        \n",
    "        train = pd.read_csv('../LematizedFiles/trainlem.csv', engine='python')\n",
    "        test = pd.read_csv('../LematizedFiles/testlem.csv',engine='python')\n",
    "        \n",
    "        train_freq = pd.read_csv('../LematizedFiles/train_ques_freq.csv', engine='python')\n",
    "        test_freq = pd.read_csv('../LematizedFiles/test_ques_freq.csv',engine='python')\n",
    "        \n",
    "        train['q1_freq'] = train_freq['q1_freq']\n",
    "        train['q2_freq'] = train_freq['q2_freq']\n",
    "         \n",
    "        test['q1_freq'] = test_freq['q1_freq']\n",
    "        test['q2_freq'] = test_freq['q2_freq']\n",
    "        \n",
    "        train.to_csv('../LematizedFiles/trainlem.csv')\n",
    "        test.to_csv('../LematizedFiles/testlem.csv')\n",
    "        \n",
    "        "
   ]
  },
  {
   "cell_type": "code",
   "execution_count": 23,
   "metadata": {},
   "outputs": [],
   "source": [
    "#Starting Point\n",
    "if __name__ == '__main__':\n",
    "    #Read csv files\n",
    "    obj = QuestionFrequency()\n",
    "    obj.read_files()\n",
    "    obj.add_freq_features()\n",
    "    obj.copy_to_orig_lem()\n"
   ]
  }
 ],
 "metadata": {
  "kernelspec": {
   "display_name": "Python 3",
   "language": "python",
   "name": "python3"
  },
  "language_info": {
   "codemirror_mode": {
    "name": "ipython",
    "version": 3
   },
   "file_extension": ".py",
   "mimetype": "text/x-python",
   "name": "python",
   "nbconvert_exporter": "python",
   "pygments_lexer": "ipython3",
   "version": "3.6.7"
  }
 },
 "nbformat": 4,
 "nbformat_minor": 2
}
