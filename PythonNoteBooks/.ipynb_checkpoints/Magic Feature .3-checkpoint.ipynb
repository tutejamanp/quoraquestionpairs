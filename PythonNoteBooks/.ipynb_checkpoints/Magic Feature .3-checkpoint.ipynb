{
 "cells": [
  {
   "cell_type": "code",
   "execution_count": 4,
   "metadata": {
    "collapsed": true
   },
   "outputs": [],
   "source": [
    "import numpy as np\n",
    "import pandas as pd\n",
    "import timeit"
   ]
  },
  {
   "cell_type": "code",
   "execution_count": 8,
   "metadata": {
    "collapsed": true
   },
   "outputs": [],
   "source": [
    "class QuestionFrequency:\n",
    "    \n",
    "    train_org = pd.DataFrame()\n",
    "    test_org = pd.DataFrame()\n",
    "    \n",
    "    def read_files(self):\n",
    "        self.train_orig = pd.read_csv('../LematizedFiles/trainlem.csv', engine='python')\n",
    "        self.test_orig = pd.read_csv('../LematizedFiles/testlem.csv',engine='python')\n",
    "        \n",
    "    def add_freq_features(self):\n",
    "        \n",
    "        df1 = self.train_orig[['question1']].copy()\n",
    "        df2 = self.train_orig[['question2']].copy()\n",
    "        df1_test = self.test_orig[['question1']].copy()\n",
    "        df2_test = self.test_orig[['question2']].copy()\n",
    "\n",
    "        df2.rename(columns = {'question2':'question1'},inplace=True)\n",
    "        df2_test.rename(columns = {'question2':'question1'},inplace=True)\n",
    "\n",
    "        train_questions = df1.append(df2)\n",
    "        train_questions = train_questions.append(df1_test)\n",
    "        train_questions = train_questions.append(df2_test)\n",
    "        #train_questions.drop_duplicates(subset = ['qid1'],inplace=True)\n",
    "        train_questions.drop_duplicates(subset = ['question1'],inplace=True)\n",
    "\n",
    "        train_questions.reset_index(inplace=True,drop=True)\n",
    "        questions_dict = pd.Series(train_questions.index.values,index=train_questions.question1.values).to_dict()\n",
    "        train_cp = self.train_orig.copy()\n",
    "        test_cp = self.test_orig.copy()\n",
    "        train_cp.drop(['qid1','qid2'],axis=1,inplace=True)\n",
    "\n",
    "        test_cp['is_duplicate'] = -1\n",
    "        test_cp.rename(columns={'test_id':'id'},inplace=True)\n",
    "        comb = pd.concat([train_cp,test_cp])\n",
    "\n",
    "        comb['q1_hash'] = comb['question1'].map(questions_dict)\n",
    "        comb['q2_hash'] = comb['question2'].map(questions_dict)\n",
    "\n",
    "        q1_vc = comb.q1_hash.value_counts().to_dict()\n",
    "        q2_vc = comb.q2_hash.value_counts().to_dict()\n",
    "\n",
    "        def try_apply_dict(x,dict_to_apply):\n",
    "            try:\n",
    "                return dict_to_apply[x]\n",
    "            except KeyError:\n",
    "                return 0\n",
    "        \n",
    "        #map to frequency space\n",
    "        comb['q1_freq'] = comb['q1_hash'].map(lambda x: try_apply_dict(x,q1_vc) + try_apply_dict(x,q2_vc))\n",
    "        comb['q2_freq'] = comb['q2_hash'].map(lambda x: try_apply_dict(x,q1_vc) + try_apply_dict(x,q2_vc))\n",
    "        \n",
    "        df.tail(1000).to_csv('../LematizedFiles/test_new_feature.csv')\n",
    "        \n",
    "        df.iloc[0:403287].to_csv('../LematizedFiles/train_new_feature.csv')\n",
    "        "
   ]
  },
  {
   "cell_type": "code",
   "execution_count": 9,
   "metadata": {},
   "outputs": [
    {
     "ename": "NameError",
     "evalue": "name 'df' is not defined",
     "output_type": "error",
     "traceback": [
      "\u001b[1;31m---------------------------------------------------------------------------\u001b[0m",
      "\u001b[1;31mNameError\u001b[0m                                 Traceback (most recent call last)",
      "\u001b[1;32m<ipython-input-9-d371071ffccc>\u001b[0m in \u001b[0;36m<module>\u001b[1;34m()\u001b[0m\n\u001b[0;32m      4\u001b[0m     \u001b[0mobj\u001b[0m \u001b[1;33m=\u001b[0m \u001b[0mQuestionFrequency\u001b[0m\u001b[1;33m(\u001b[0m\u001b[1;33m)\u001b[0m\u001b[1;33m\u001b[0m\u001b[1;33m\u001b[0m\u001b[0m\n\u001b[0;32m      5\u001b[0m     \u001b[0mobj\u001b[0m\u001b[1;33m.\u001b[0m\u001b[0mread_files\u001b[0m\u001b[1;33m(\u001b[0m\u001b[1;33m)\u001b[0m\u001b[1;33m\u001b[0m\u001b[1;33m\u001b[0m\u001b[0m\n\u001b[1;32m----> 6\u001b[1;33m     \u001b[0mobj\u001b[0m\u001b[1;33m.\u001b[0m\u001b[0madd_freq_features\u001b[0m\u001b[1;33m(\u001b[0m\u001b[1;33m)\u001b[0m\u001b[1;33m\u001b[0m\u001b[1;33m\u001b[0m\u001b[0m\n\u001b[0m",
      "\u001b[1;32m<ipython-input-8-509853ab2ba7>\u001b[0m in \u001b[0;36madd_freq_features\u001b[1;34m(self)\u001b[0m\n\u001b[0;32m     50\u001b[0m         \u001b[0mcomb\u001b[0m\u001b[1;33m[\u001b[0m\u001b[1;34m'q2_freq'\u001b[0m\u001b[1;33m]\u001b[0m \u001b[1;33m=\u001b[0m \u001b[0mcomb\u001b[0m\u001b[1;33m[\u001b[0m\u001b[1;34m'q2_hash'\u001b[0m\u001b[1;33m]\u001b[0m\u001b[1;33m.\u001b[0m\u001b[0mmap\u001b[0m\u001b[1;33m(\u001b[0m\u001b[1;32mlambda\u001b[0m \u001b[0mx\u001b[0m\u001b[1;33m:\u001b[0m \u001b[0mtry_apply_dict\u001b[0m\u001b[1;33m(\u001b[0m\u001b[0mx\u001b[0m\u001b[1;33m,\u001b[0m\u001b[0mq1_vc\u001b[0m\u001b[1;33m)\u001b[0m \u001b[1;33m+\u001b[0m \u001b[0mtry_apply_dict\u001b[0m\u001b[1;33m(\u001b[0m\u001b[0mx\u001b[0m\u001b[1;33m,\u001b[0m\u001b[0mq2_vc\u001b[0m\u001b[1;33m)\u001b[0m\u001b[1;33m)\u001b[0m\u001b[1;33m\u001b[0m\u001b[1;33m\u001b[0m\u001b[0m\n\u001b[0;32m     51\u001b[0m \u001b[1;33m\u001b[0m\u001b[0m\n\u001b[1;32m---> 52\u001b[1;33m         \u001b[0mdf\u001b[0m\u001b[1;33m.\u001b[0m\u001b[0mtail\u001b[0m\u001b[1;33m(\u001b[0m\u001b[1;36m1000\u001b[0m\u001b[1;33m)\u001b[0m\u001b[1;33m.\u001b[0m\u001b[0mto_csv\u001b[0m\u001b[1;33m(\u001b[0m\u001b[1;34m'../LematizedFiles/test_new_feature.csv'\u001b[0m\u001b[1;33m)\u001b[0m\u001b[1;33m\u001b[0m\u001b[1;33m\u001b[0m\u001b[0m\n\u001b[0m\u001b[0;32m     53\u001b[0m \u001b[1;33m\u001b[0m\u001b[0m\n\u001b[0;32m     54\u001b[0m         \u001b[0mdf\u001b[0m\u001b[1;33m.\u001b[0m\u001b[0miloc\u001b[0m\u001b[1;33m[\u001b[0m\u001b[1;36m0\u001b[0m\u001b[1;33m:\u001b[0m\u001b[1;36m403287\u001b[0m\u001b[1;33m]\u001b[0m\u001b[1;33m.\u001b[0m\u001b[0mto_csv\u001b[0m\u001b[1;33m(\u001b[0m\u001b[1;34m'../LematizedFiles/train_new_feature.csv'\u001b[0m\u001b[1;33m)\u001b[0m\u001b[1;33m\u001b[0m\u001b[1;33m\u001b[0m\u001b[0m\n",
      "\u001b[1;31mNameError\u001b[0m: name 'df' is not defined"
     ]
    }
   ],
   "source": [
    "#Starting Point\n",
    "if __name__ == '__main__':\n",
    "    #Read csv files\n",
    "    obj = QuestionFrequency()\n",
    "    obj.read_files()\n",
    "    obj.add_freq_features()\n"
   ]
  }
 ],
 "metadata": {
  "kernelspec": {
   "display_name": "Python 3",
   "language": "python",
   "name": "python3"
  },
  "language_info": {
   "codemirror_mode": {
    "name": "ipython",
    "version": 3
   },
   "file_extension": ".py",
   "mimetype": "text/x-python",
   "name": "python",
   "nbconvert_exporter": "python",
   "pygments_lexer": "ipython3",
   "version": "3.6.7"
  }
 },
 "nbformat": 4,
 "nbformat_minor": 2
}
