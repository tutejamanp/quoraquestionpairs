{
 "cells": [
  {
   "cell_type": "code",
   "execution_count": 2,
   "metadata": {
    "collapsed": true
   },
   "outputs": [],
   "source": [
    "import numpy as np \n",
    "import pandas as pd \n",
    "import pandas as pd\n",
    "import networkx as nx\n"
   ]
  },
  {
   "cell_type": "code",
   "execution_count": 4,
   "metadata": {
    "collapsed": true
   },
   "outputs": [],
   "source": [
    "class IntersectionCount:\n",
    "    \n",
    "    def calculate_intersection_count(self):\n",
    "        train_df = pd.read_csv('../LematizedFiles/trainlem.csv', engine='python')\n",
    "        test_df = pd.read_csv('../LematizedFiles/testlem.csv', engine='python')\n",
    "\n",
    "        df = pd.concat([train_df, test_df])\n",
    "\n",
    "\n",
    "        g = nx.Graph()\n",
    "        g.add_nodes_from(df.question1)\n",
    "        g.add_nodes_from(df.question2)\n",
    "        edges = list(df[['question1', 'question2']].to_records(index=False))\n",
    "        g.add_edges_from(edges)\n",
    "\n",
    "\n",
    "        def get_intersection_count(row):\n",
    "            return(len(set(g.neighbors(row.question1)).intersection(set(g.neighbors(row.question2)))))\n",
    "\n",
    "        train_ic = pd.DataFrame()\n",
    "        test_ic = pd.DataFrame()\n",
    "\n",
    "\n",
    "        train_df['intersection_count'] = train_df.apply(lambda row: get_intersection_count(row), axis=1)\n",
    "        test_df['intersection_count'] = test_df.apply(lambda row: get_intersection_count(row), axis=1)\n",
    "        train_ic['intersection_count'] = train_df['intersection_count']\n",
    "        test_ic['intersection_count'] = test_df['intersection_count']\n",
    "\n",
    "        train_df.to_csv(\"../LematizedFiles/trainlem.csv\", index=False)\n",
    "        test_df.to_csv(\"../LematizedFiles/testlem.csv\", index=False)"
   ]
  },
  {
   "cell_type": "code",
   "execution_count": 6,
   "metadata": {},
   "outputs": [],
   "source": [
    "#Starting Point\n",
    "if __name__ == '__main__':\n",
    "    #Read csv files\n",
    "    obj = IntersectionCount()\n",
    "    obj.calculate_intersection_count()\n",
    "    "
   ]
  }
 ],
 "metadata": {
  "kernelspec": {
   "display_name": "Python 3",
   "language": "python",
   "name": "python3"
  },
  "language_info": {
   "codemirror_mode": {
    "name": "ipython",
    "version": 3
   },
   "file_extension": ".py",
   "mimetype": "text/x-python",
   "name": "python",
   "nbconvert_exporter": "python",
   "pygments_lexer": "ipython3",
   "version": "3.6.7"
  }
 },
 "nbformat": 4,
 "nbformat_minor": 2
}
