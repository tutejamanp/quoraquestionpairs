{
 "cells": [
  {
   "cell_type": "code",
   "execution_count": 1,
   "metadata": {},
   "outputs": [
    {
     "name": "stderr",
     "output_type": "stream",
     "text": [
      "C:\\Users\\Gaurav Joshi\\Anaconda3\\lib\\site-packages\\fuzzywuzzy\\fuzz.py:11: UserWarning: Using slow pure-python SequenceMatcher. Install python-Levenshtein to remove this warning\n",
      "  warnings.warn('Using slow pure-python SequenceMatcher. Install python-Levenshtein to remove this warning')\n"
     ]
    }
   ],
   "source": [
    "#Importing necessary libraries\n",
    "import pandas as pd\n",
    "import numpy as np\n",
    "import string\n",
    "import csv\n",
    "from nltk.tokenize import word_tokenize\n",
    "from sklearn.model_selection import train_test_split\n",
    "from sklearn.model_selection import GridSearchCV\n",
    "from numpy import loadtxt\n",
    "from xgboost import XGBClassifier\n",
    "from sklearn.model_selection import train_test_split\n",
    "from sklearn.ensemble import RandomForestClassifier\n",
    "from sklearn import preprocessing \n",
    "from sklearn.preprocessing import LabelEncoder\n",
    "from sklearn.model_selection import StratifiedKFold\n",
    "from sklearn.model_selection import GridSearchCV\n",
    "from fuzzywuzzy import fuzz\n",
    "import pandas_ml as pdml\n",
    "from imblearn import under_sampling, over_sampling\n",
    "from imblearn.over_sampling import SMOTE\n"
   ]
  },
  {
   "cell_type": "code",
   "execution_count": 2,
   "metadata": {
    "collapsed": true
   },
   "outputs": [],
   "source": [
    "#Cleaning null values of TF-IDF and lemmatizated features\n",
    "class DataCleaning:\n",
    "    \n",
    "    #Cleaning the first half of training dataset\n",
    "    def clean_data(self, X):\n",
    "        X['tfidf_word_match'] = X['tfidf_word_match'].fillna(0)\n",
    "        X['lem_tfidf_word_match'] = X['lem_tfidf_word_match'].fillna(0)\n",
    "        X['log_lem_tfidf'] = X['log_lem_tfidf'].fillna(0)\n",
    "        X['lem_tfidf_squared'] = X['lem_tfidf_squared'].fillna(0)\n",
    "        X['lem_tfidf_sqrt'] = X['lem_tfidf_sqrt'].fillna(0)\n",
    "\n"
   ]
  },
  {
   "cell_type": "code",
   "execution_count": null,
   "metadata": {
    "collapsed": true
   },
   "outputs": [],
   "source": [
    "#Read the Featured Engineering Files\n",
    "data = pd.read_csv('../FeatureEngineeringFiles/featured_train3.csv', engine='python')\n",
    "test_X = pd.read_csv('../FeatureEngineeringFiles/featured_test3.csv', engine='python')\n",
    "X = data.iloc[0:,0:43]\n",
    "Y = data.iloc[0:,43:44]\n",
    "\n",
    "#Cleaning the dataset of null values\n",
    "cleaning = DataCleaning()\n",
    "cleaning.clean_data(X)\n",
    "cleaning.clean_data(test_X)\n",
    "\n",
    "#from imblearn.over_sampling import SMOTE\n",
    "#data = SMOTE(random_state = 2)\n",
    "#X4, Y4 = data.fit_sample(X, Y.values.ravel())\n",
    "\n",
    "#Over sampling\n",
    "data = pdml.ModelFrame(X, target=Y)\n",
    "sampler = data.imbalance.over_sampling.SMOTE()\n",
    "sampled_data = data.fit_sample(sampler)\n",
    "\n",
    "#sampled_data = sampled_data[sampled_data.is_duplicate != 0]\n",
    "\n",
    "data = sampled_data"
   ]
  }
 ],
 "metadata": {
  "kernelspec": {
   "display_name": "Python 3",
   "language": "python",
   "name": "python3"
  },
  "language_info": {
   "codemirror_mode": {
    "name": "ipython",
    "version": 3
   },
   "file_extension": ".py",
   "mimetype": "text/x-python",
   "name": "python",
   "nbconvert_exporter": "python",
   "pygments_lexer": "ipython3",
   "version": "3.6.7"
  }
 },
 "nbformat": 4,
 "nbformat_minor": 2
}
