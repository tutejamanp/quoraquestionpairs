{
 "cells": [
  {
   "cell_type": "code",
   "execution_count": 5,
   "metadata": {
    "collapsed": true
   },
   "outputs": [],
   "source": [
    "import pandas as pd\n",
    "import numpy as np\n",
    "import string\n",
    "import csv   \n",
    "from sklearn.linear_model import LinearRegression\n",
    "from sklearn.ensemble import RandomForestRegressor\n",
    "from xgboost import XGBClassifier\n",
    "from sklearn.metrics import accuracy_score\n",
    "from sklearn.model_selection import cross_val_score\n",
    "from sklearn.metrics import mean_squared_error\n",
    "from sklearn.model_selection import train_test_split\n",
    "from sklearn import svm\n",
    "from sklearn.svm import LinearSVC\n",
    "import lightgbm as lgbm\n",
    "from sklearn.svm import SVR\n",
    "import seaborn as sns\n",
    "import matplotlib.pyplot as plt\n",
    "import pickle\n",
    "        "
   ]
  },
  {
   "cell_type": "code",
   "execution_count": 25,
   "metadata": {
    "collapsed": true
   },
   "outputs": [],
   "source": [
    "class TestingPickle:\n",
    "    \n",
    "    #Testing the pickle file using it's constructor\n",
    "    def __init__(self):\n",
    "            \n",
    "       \n",
    "        test_featured = pd.read_csv('../FeatureEngineeringFiles/featured_test.csv', engine='python')\n",
    "        \n",
    "        xgbModel = pickle.load(open(\"../PickleFiles/xgbModel.pkl\",'rb'))\n",
    "        randomModel = pickle.load(open(\"../PickleFiles/randomModel.pkl\",'rb'))\n",
    "        stackedModel = pickle.load(open(\"../PickleFiles/stackModel.pkl\",'rb'))\n",
    "\n",
    "        \n",
    "        test_X = pd.DataFrame()\n",
    "        test_X['forest_value'] = randomModel.predict_proba(test_featured)[:, 1]\n",
    "        test_X['xgb_value'] = xgbModel.predict_proba(test_featured)[:, 1]\n",
    "        p = stackedModel.predict_proba(test_X)[:, 1]\n",
    "        \n",
    "                \n",
    "        #Creating a data set for test data set\n",
    "        #Predicting values for that\n",
    "        test_X = pd.read_csv('../InputFiles/test.csv', engine='python')\n",
    "        \n",
    "        sub = pd.DataFrame({'id': test_X['test_id'], 'is_duplicate': p})\n",
    "        sub.to_csv('../OutputFiles/pickled_output.csv', index=False)\n"
   ]
  },
  {
   "cell_type": "code",
   "execution_count": 26,
   "metadata": {
    "collapsed": true
   },
   "outputs": [],
   "source": [
    "class StartClass:\n",
    "    \n",
    "    if __name__ == '__main__':\n",
    "        #Testing the various pickle models and stacking them together to get the final answer\n",
    "        #Just need to import all the necessary libraries\n",
    "        #Load the Pickler Class\n",
    "        #Next load the TestingPickle Class\n",
    "        testing_pickle = TestingPickle()\n"
   ]
  }
 ],
 "metadata": {
  "kernelspec": {
   "display_name": "Python 3",
   "language": "python",
   "name": "python3"
  },
  "language_info": {
   "codemirror_mode": {
    "name": "ipython",
    "version": 3
   },
   "file_extension": ".py",
   "mimetype": "text/x-python",
   "name": "python",
   "nbconvert_exporter": "python",
   "pygments_lexer": "ipython3",
   "version": "3.6.7"
  }
 },
 "nbformat": 4,
 "nbformat_minor": 2
}
